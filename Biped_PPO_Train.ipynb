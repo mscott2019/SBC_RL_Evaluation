{
 "cells": [
  {
   "cell_type": "markdown",
   "id": "187bfe15-247d-4498-b6e6-4cc1a6118638",
   "metadata": {
    "tags": []
   },
   "source": [
    "1. Import Dependencies"
   ]
  },
  {
   "cell_type": "code",
   "execution_count": null,
   "id": "6f7cc9d1-cb20-4f55-bf95-e051782dd27a",
   "metadata": {
    "scrolled": true
   },
   "outputs": [],
   "source": [
    "import os\n",
    "import gymnasium as gym\n",
    "from stable_baselines3 import PPO\n",
    "from stable_baselines3.common.vec_env import DummyVecEnv\n",
    "from stable_baselines3.common.evaluation import evaluate_policy\n",
    "#import random"
   ]
  },
  {
   "cell_type": "markdown",
   "id": "c3f07626-a349-4295-a6a0-8ac5934a531a",
   "metadata": {},
   "source": [
    "2.1. Load Environment"
   ]
  },
  {
   "cell_type": "code",
   "execution_count": null,
   "id": "cd5ba3df-b362-4280-8ff7-a5c5777a59c2",
   "metadata": {},
   "outputs": [],
   "source": [
    "environment_name = 'BipedalWalker-v3'\n",
    "#env = gym.make(environment_name, render_mode=\"human\")\n",
    "env = gym.make(environment_name, render_mode = \"rgb_array\")"
   ]
  },
  {
   "cell_type": "code",
   "execution_count": null,
   "id": "91469e5c-eb41-4aaf-bf33-ecede522984b",
   "metadata": {},
   "outputs": [],
   "source": [
    "episodes = 5\n",
    "for episode in range(1, episodes+1):\n",
    "    state, info = env.reset()\n",
    "    terminated = False\n",
    "    score = 0 \n",
    "    \n",
    "    while not terminated:\n",
    "        env.render()\n",
    "        action = env.action_space.sample()\n",
    "        n_state, reward, terminated, truncated, info = env.step(action)\n",
    "        score+=reward\n",
    "        \n",
    "        if terminated or truncated:\n",
    "            observation, info = env.reset()\n",
    "        \n",
    "    print('Episode:{} Score:{}'.format(episode, score))\n",
    "env.close()"
   ]
  },
  {
   "cell_type": "markdown",
   "id": "073dc072-02bd-403d-a7d2-26e7186b2192",
   "metadata": {},
   "source": [
    "2.2. Understanding the Environemnt"
   ]
  },
  {
   "cell_type": "code",
   "execution_count": null,
   "id": "9cfea74f-02f0-4292-b39f-ef7498051467",
   "metadata": {},
   "outputs": [],
   "source": [
    "# 0-push cart to left, 1-push cart to the right\n",
    "env.action_space.sample()"
   ]
  },
  {
   "cell_type": "code",
   "execution_count": null,
   "id": "38986a68-7310-4d43-b3fd-3b464d49ca33",
   "metadata": {},
   "outputs": [],
   "source": [
    "# [cart position, cart velocity, pole angle, pole angular velocity]\n",
    "env.observation_space"
   ]
  },
  {
   "cell_type": "markdown",
   "id": "01e246e6-cbe3-45b2-afc8-fe5609f50f8e",
   "metadata": {},
   "source": [
    "3. Train an RL Model"
   ]
  },
  {
   "cell_type": "markdown",
   "id": "4b95b40a-0a15-4ff2-9bbf-a517646a4663",
   "metadata": {},
   "source": [
    "3.1. Make your directories first:"
   ]
  },
  {
   "cell_type": "code",
   "execution_count": null,
   "id": "a2d0756b-111d-4198-a9ac-9e0d50569b01",
   "metadata": {
    "tags": []
   },
   "outputs": [],
   "source": [
    "PPO_path_TB_log = os.path.join('Training', 'Saved Models', 'PPO_Biped_model_TB_Log')"
   ]
  },
  {
   "cell_type": "code",
   "execution_count": null,
   "id": "deadf135-dc2a-4ada-a9d0-a64f2e44cc27",
   "metadata": {},
   "outputs": [],
   "source": [
    "env = gym.make(environment_name, render_mode=\"rgb_array\")\n",
    "env = DummyVecEnv([lambda: env])\n",
    "model = PPO('MlpPolicy', env, verbose = 1, tensorboard_log=PPO_path_TB_log)"
   ]
  },
  {
   "cell_type": "code",
   "execution_count": null,
   "id": "146179a4-a1bb-40ed-bb2d-b5562d309ee3",
   "metadata": {},
   "outputs": [],
   "source": [
    "from tensorflow.python.client import device_lib\n",
    "\n",
    "def get_available_devices():\n",
    "    local_device_protos = device_lib.list_local_devices()\n",
    "    return [x.name for x in local_device_protos]\n",
    "\n",
    "print(get_available_devices())"
   ]
  },
  {
   "cell_type": "code",
   "execution_count": null,
   "id": "78b50496-acaf-418c-b20f-89a71a2ccf6d",
   "metadata": {},
   "outputs": [],
   "source": [
    "model.learn(total_timesteps=750000)"
   ]
  },
  {
   "cell_type": "markdown",
   "id": "97d6c51d-e562-4131-89d8-3a6ec0afb8f2",
   "metadata": {},
   "source": [
    "4.Save and Reload Model"
   ]
  },
  {
   "cell_type": "code",
   "execution_count": null,
   "id": "cf5802f2-7662-47c8-bf6d-feeed5563b9b",
   "metadata": {
    "tags": []
   },
   "outputs": [],
   "source": [
    "env.close()"
   ]
  },
  {
   "cell_type": "code",
   "execution_count": null,
   "id": "9d629fce-55bb-41ca-8c93-5c9063913e82",
   "metadata": {
    "tags": []
   },
   "outputs": [],
   "source": [
    "PPO_Path_trained = os.path.join('Training', 'Saved Models', 'PPO_Biped_Model')"
   ]
  },
  {
   "cell_type": "code",
   "execution_count": null,
   "id": "fc92c494-35c6-4049-9313-dd9523c6643a",
   "metadata": {
    "tags": []
   },
   "outputs": [],
   "source": [
    "model.save(PPO_Path_trained)"
   ]
  },
  {
   "cell_type": "code",
   "execution_count": null,
   "id": "e3e8b225-c87c-4c07-aac4-b0f35837bf92",
   "metadata": {
    "tags": []
   },
   "outputs": [],
   "source": [
    "del model"
   ]
  },
  {
   "cell_type": "code",
   "execution_count": null,
   "id": "acc3229b-a0ec-40cd-a0a4-8832e91ccf7d",
   "metadata": {
    "tags": []
   },
   "outputs": [],
   "source": [
    "#model = PPO.load(PPO_Path_trained, env=env)\n",
    "model = PPO.load(PPO_Path_trained)"
   ]
  },
  {
   "cell_type": "markdown",
   "id": "f4879127-960c-48a1-bad0-2b263c51d125",
   "metadata": {},
   "source": [
    "5. Evaluation"
   ]
  },
  {
   "cell_type": "code",
   "execution_count": null,
   "id": "dd418dcd-18b3-4bc8-9d6e-2a7052eda2c4",
   "metadata": {
    "tags": []
   },
   "outputs": [],
   "source": [
    "mean_reward, std_reward = evaluate_policy(model, env, n_eval_episodes=10)"
   ]
  },
  {
   "cell_type": "code",
   "execution_count": null,
   "id": "b5cf438f-15d0-40d2-9981-a7960523e020",
   "metadata": {
    "tags": []
   },
   "outputs": [],
   "source": [
    "mean_reward"
   ]
  },
  {
   "cell_type": "code",
   "execution_count": null,
   "id": "a99c26d2-9990-4445-a663-c204fc2c96bb",
   "metadata": {
    "tags": []
   },
   "outputs": [],
   "source": [
    "episodes = 5\n",
    "for episode in range(1, episodes+1):\n",
    "    obs = env.reset()\n",
    "    terminated = False\n",
    "    score = 0 \n",
    "    \n",
    "    while not terminated:\n",
    "        env.render()\n",
    "        action, _ = model.predict(obs) #Now using model here\n",
    "        obs, reward, terminated, info = env.step(action)\n",
    "        score+=reward\n",
    "        \n",
    "        if terminated or truncated:\n",
    "            observation = env.reset()\n",
    "        \n",
    "    print('Episode:{} Score:{}'.format(episode, score))"
   ]
  },
  {
   "cell_type": "code",
   "execution_count": null,
   "id": "57d89446-1a67-4860-a853-a8ac0964c60d",
   "metadata": {
    "tags": []
   },
   "outputs": [],
   "source": [
    "env.close()"
   ]
  },
  {
   "cell_type": "code",
   "execution_count": null,
   "id": "872e29f5-cbd5-4df6-8c24-484d2a3c13a8",
   "metadata": {},
   "outputs": [],
   "source": [
    "#env = gym.make(environment_name, render_mode=\"human\")\n",
    "env = gym.make(environment_name, render_mode=\"rgb_array\")\n",
    "env = DummyVecEnv([lambda: env])"
   ]
  },
  {
   "cell_type": "code",
   "execution_count": null,
   "id": "42343b21-a10b-437e-bc9d-86c20754ba34",
   "metadata": {
    "tags": []
   },
   "outputs": [],
   "source": [
    "episodes = 5\n",
    "for episode in range(1, episodes+1):\n",
    "    obs = env.reset()\n",
    "    terminated = False\n",
    "    score = 0 \n",
    "    \n",
    "    while not terminated:\n",
    "        env.render()\n",
    "        action, _ = model.predict(obs) #Now using model here\n",
    "        obs, reward, terminated, info = env.step(action)\n",
    "        score+=reward\n",
    "        \n",
    "        if terminated or truncated:\n",
    "            observation = env.reset()\n",
    "        \n",
    "    print('Episode:{} Score:{}'.format(episode, score))"
   ]
  },
  {
   "cell_type": "code",
   "execution_count": null,
   "id": "0c531564-1d3f-483a-acac-68c08522e778",
   "metadata": {
    "tags": []
   },
   "outputs": [],
   "source": [
    "env.close()"
   ]
  },
  {
   "cell_type": "code",
   "execution_count": null,
   "id": "dc5d9668-fc56-496b-bb96-720cb230137a",
   "metadata": {},
   "outputs": [],
   "source": []
  }
 ],
 "metadata": {
  "kernelspec": {
   "display_name": "Python 3 (ipykernel)",
   "language": "python",
   "name": "python3"
  },
  "language_info": {
   "codemirror_mode": {
    "name": "ipython",
    "version": 3
   },
   "file_extension": ".py",
   "mimetype": "text/x-python",
   "name": "python",
   "nbconvert_exporter": "python",
   "pygments_lexer": "ipython3",
   "version": "3.10.13"
  }
 },
 "nbformat": 4,
 "nbformat_minor": 5
}
