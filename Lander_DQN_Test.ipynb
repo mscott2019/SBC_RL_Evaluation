{
 "cells": [
  {
   "cell_type": "markdown",
   "id": "187bfe15-247d-4498-b6e6-4cc1a6118638",
   "metadata": {
    "tags": []
   },
   "source": [
    "1. Import Dependencies"
   ]
  },
  {
   "cell_type": "code",
   "execution_count": null,
   "id": "6f7cc9d1-cb20-4f55-bf95-e051782dd27a",
   "metadata": {},
   "outputs": [],
   "source": [
    "import os\n",
    "import gymnasium as gym\n",
    "from stable_baselines3 import DQN\n",
    "from stable_baselines3.common.vec_env import DummyVecEnv\n",
    "from stable_baselines3.common.evaluation import evaluate_policy\n",
    "import time\n",
    "#import random"
   ]
  },
  {
   "cell_type": "markdown",
   "id": "c3f07626-a349-4295-a6a0-8ac5934a531a",
   "metadata": {},
   "source": [
    "2.Load Environment"
   ]
  },
  {
   "cell_type": "code",
   "execution_count": null,
   "id": "e1777af9-6526-44bf-be59-9c25616819e8",
   "metadata": {},
   "outputs": [],
   "source": [
    "DQN_path_TB_log = os.path.join('Training', 'Saved Models', 'DQN_Lander_model_TB_Log')"
   ]
  },
  {
   "cell_type": "code",
   "execution_count": null,
   "id": "cd5ba3df-b362-4280-8ff7-a5c5777a59c2",
   "metadata": {},
   "outputs": [],
   "source": [
    "environment_name = 'LunarLander-v2'\n",
    "env = gym.make(environment_name, render_mode=\"rgb_array\")\n",
    "env = DummyVecEnv([lambda: env])\n",
    "model = DQN('MlpPolicy', env, verbose = 1, tensorboard_log=DQN_path_TB_log)"
   ]
  },
  {
   "cell_type": "code",
   "execution_count": null,
   "id": "9d629fce-55bb-41ca-8c93-5c9063913e82",
   "metadata": {
    "tags": []
   },
   "outputs": [],
   "source": [
    "DQN_Path_trained = os.path.join('Training', 'Saved Models', 'DQN_Lander_Model')"
   ]
  },
  {
   "cell_type": "code",
   "execution_count": null,
   "id": "acc3229b-a0ec-40cd-a0a4-8832e91ccf7d",
   "metadata": {
    "tags": []
   },
   "outputs": [],
   "source": [
    "#model = PPO.load(PPO_Path_trained, env=env)\n",
    "model = DQN.load(DQN_Path_trained)"
   ]
  },
  {
   "cell_type": "markdown",
   "id": "f4879127-960c-48a1-bad0-2b263c51d125",
   "metadata": {},
   "source": [
    "3. Evaluation"
   ]
  },
  {
   "cell_type": "code",
   "execution_count": null,
   "id": "dd418dcd-18b3-4bc8-9d6e-2a7052eda2c4",
   "metadata": {
    "tags": []
   },
   "outputs": [],
   "source": [
    "mean_reward, std_reward = evaluate_policy(model, env, n_eval_episodes=10)"
   ]
  },
  {
   "cell_type": "code",
   "execution_count": null,
   "id": "b5cf438f-15d0-40d2-9981-a7960523e020",
   "metadata": {
    "tags": []
   },
   "outputs": [],
   "source": [
    "mean_reward"
   ]
  },
  {
   "cell_type": "code",
   "execution_count": null,
   "id": "42343b21-a10b-437e-bc9d-86c20754ba34",
   "metadata": {
    "tags": []
   },
   "outputs": [],
   "source": [
    "start = time.time()\n",
    "episodes = 5\n",
    "for episode in range(1, episodes+1):\n",
    "    obs = env.reset()\n",
    "    terminated = False\n",
    "    score = 0 \n",
    "    \n",
    "    while not terminated:\n",
    "        env.render()\n",
    "        action, _ = model.predict(obs) #Now using model here\n",
    "        obs, reward, terminated, info = env.step(action)\n",
    "        score+=reward\n",
    "        \n",
    "#        if terminated or truncated:\n",
    "        if terminated:\n",
    "            observation = env.reset()\n",
    "        \n",
    "    print('Episode:{} Score:{}'.format(episode, score))\n",
    "end = time.time()\n",
    "print(end - start)"
   ]
  },
  {
   "cell_type": "code",
   "execution_count": null,
   "id": "0c531564-1d3f-483a-acac-68c08522e778",
   "metadata": {
    "tags": []
   },
   "outputs": [],
   "source": [
    "env.close()"
   ]
  },
  {
   "cell_type": "code",
   "execution_count": null,
   "id": "584ec4ad-b52e-42d8-8e4a-6c1fba41f954",
   "metadata": {},
   "outputs": [],
   "source": []
  }
 ],
 "metadata": {
  "kernelspec": {
   "display_name": "Python 3 (ipykernel)",
   "language": "python",
   "name": "python3"
  },
  "language_info": {
   "codemirror_mode": {
    "name": "ipython",
    "version": 3
   },
   "file_extension": ".py",
   "mimetype": "text/x-python",
   "name": "python",
   "nbconvert_exporter": "python",
   "pygments_lexer": "ipython3",
   "version": "3.10.13"
  }
 },
 "nbformat": 4,
 "nbformat_minor": 5
}
